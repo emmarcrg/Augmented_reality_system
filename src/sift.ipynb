{
 "cells": [
  {
   "cell_type": "markdown",
   "id": "2d2c46fe",
   "metadata": {},
   "source": [
    "Based on the code shown in https://scikit-image.org/docs/stable/auto_examples/features_detection/plot_sift.html"
   ]
  },
  {
   "cell_type": "code",
   "execution_count": 1,
   "id": "3d271516",
   "metadata": {},
   "outputs": [],
   "source": [
    "import matplotlib.pyplot as plt\n",
    "from skimage.color import rgb2gray\n",
    "from skimage.feature import SIFT, match_descriptors, plot_matched_features\n",
    "from skimage import transform\n",
    "from PIL import Image\n",
    "import numpy as np\n",
    "import os\n",
    "import cv2\n",
    "from skimage.measure import ransac\n",
    "from skimage.transform import ProjectiveTransform\n",
    "from pathlib import Path\n",
    "import pandas as pd"
   ]
  },
  {
   "cell_type": "code",
   "execution_count": 2,
   "id": "e0368377",
   "metadata": {},
   "outputs": [],
   "source": [
    "# Load the datafiles and make them grayscale\n",
    "def load_image(path):\n",
    "    return rgb2gray(np.array(Image.open(path)))"
   ]
  },
  {
   "cell_type": "code",
   "execution_count": 3,
   "id": "68e758bf",
   "metadata": {},
   "outputs": [
    {
     "name": "stdout",
     "output_type": "stream",
     "text": [
      "Répertoire courant : c:\\Users\\emmar\\OneDrive\\Polytech\\I5\\Semestre 9 - Oslo\\Data Mining\\Exercices\\Day 5\\Augmented_reality_system\\src\n"
     ]
    }
   ],
   "source": [
    "# Used to acces the name of the folder we are working on : not necessary\n",
    "print(\"Répertoire courant :\", os.getcwd())\n"
   ]
  },
  {
   "cell_type": "code",
   "execution_count": 4,
   "id": "857fa75c",
   "metadata": {},
   "outputs": [],
   "source": [
    "# Extract SIFT keypoints and descriptors\n",
    "def extract_sift_features(image):\n",
    "    sift = SIFT()\n",
    "    sift.detect_and_extract(image)\n",
    "    return sift.keypoints, sift.descriptors"
   ]
  },
  {
   "cell_type": "markdown",
   "id": "728a84fd",
   "metadata": {},
   "source": [
    "Problem of dimensions for the first two pictures."
   ]
  },
  {
   "cell_type": "code",
   "execution_count": 5,
   "id": "db9c9955",
   "metadata": {},
   "outputs": [],
   "source": [
    "def resize_to_match(img1, img2):\n",
    "    h1, w1 = img1.shape[:2]\n",
    "    h2, w2 = img2.shape[:2]\n",
    "    return cv2.resize(img2, (w1, h1)) if (h1 != h2 or w1 != w2) else img2"
   ]
  },
  {
   "cell_type": "code",
   "execution_count": 6,
   "id": "d45e0e85",
   "metadata": {},
   "outputs": [],
   "source": [
    "# Visualize the matches\n",
    "def match_and_plot(img1, img2, keypoints1, descriptors1, keypoints2, descriptors2, title):\n",
    "    matches = match_descriptors(descriptors1, descriptors2, max_ratio=0.6, cross_check=True)\n",
    "\n",
    "    #img2 = resize_to_match(img1, img2)\n",
    "    \n",
    "    fig, ax = plt.subplots(1, 1, figsize=(10, 8))\n",
    "    plt.gray()\n",
    "    plot_matched_features(image0=img1, image1=img2, \n",
    "                          keypoints0=keypoints1, keypoints1=keypoints2,\n",
    "                          matches=matches, ax=ax, \n",
    "                          keypoints_color='cyan',\n",
    "                          only_matches=True)\n",
    "    ax.axis('off')\n",
    "    ax.set_title(title)\n",
    "    plt.show()\n",
    "    return matches"
   ]
  },
  {
   "cell_type": "code",
   "execution_count": 17,
   "id": "f104c122",
   "metadata": {},
   "outputs": [],
   "source": [
    "# Compute matching accuracy using optional homography\n",
    "def compute_matching_accuracy(keypoints1, keypoints2, matches, homography=None, threshold=5):\n",
    "    \"\"\"\n",
    "    Compute the matching accuracy based on a homography.\n",
    "    If no homography is provided, only the number of matches is printed.\n",
    "    \"\"\"\n",
    "    if homography is None:\n",
    "        print(f\"No homographt matrix to work with\")\n",
    "        return None\n",
    "\n",
    "    if matches is None or len(matches) == 0:\n",
    "        print(\"No matches to evaluate.\")\n",
    "        return 0\n",
    "\n",
    "    correct = 0\n",
    "    for i, j in matches:\n",
    "        pt1 = np.array([*keypoints1[i], 1.0])  # homogeneous coordinates\n",
    "        projected = homography @ pt1\n",
    "        projected /= projected[2]  # normalize\n",
    "\n",
    "        pt2 = keypoints2[j]\n",
    "        error = np.linalg.norm(projected[:2] - pt2)\n",
    "\n",
    "        if error < threshold:\n",
    "            correct += 1\n",
    "\n",
    "    accuracy = correct / len(matches) if matches.size > 0 else 0\n",
    "    print(f\"Matching Accuracy: {accuracy:.2%} ({correct}/{len(matches)} correct matches)\")\n",
    "    return accuracy"
   ]
  },
  {
   "cell_type": "code",
   "execution_count": 15,
   "id": "92e1147f",
   "metadata": {},
   "outputs": [],
   "source": [
    "def create_homography(keypoints1, keypoints2, descriptors1, descriptors2):\n",
    "    \"\"\"\n",
    "    Create a homography matrix from source points to destination points.\n",
    "    \"\"\"\n",
    "    matches = match_descriptors(descriptors1, descriptors2, max_ratio=0.6, cross_check=True)\n",
    "    if matches.shape[0] < 4:\n",
    "        print(f\"Not enough matches to estimate homography: {matches.shape[0]} found\")\n",
    "        return None, None\n",
    "    \n",
    "    if matches is None:\n",
    "        print(\"No matches found.\")\n",
    "        return None, None\n",
    "    \n",
    "    src = keypoints1[matches[:, 0]]  # points from image 1\n",
    "    dst = keypoints2[matches[:, 1]]  # corresponding points in image 2\n",
    "\n",
    "    model_robust, inliers = ransac(\n",
    "        (src, dst),\n",
    "        ProjectiveTransform,\n",
    "        min_samples=4,\n",
    "        residual_threshold=2,\n",
    "        max_trials=1000\n",
    "    )\n",
    "    H = model_robust.params \n",
    "    return H, matches\n"
   ]
  },
  {
   "cell_type": "code",
   "execution_count": 9,
   "id": "ce8a2dfc",
   "metadata": {},
   "outputs": [],
   "source": [
    "def load_base(dataset_dir = '../data/images'):\n",
    "    dataset_paths = sorted(Path(dataset_dir).rglob(\"*\"))\n",
    "    records = []\n",
    "\n",
    "    for ref_path in dataset_paths:\n",
    "        print(f\"Currently working on {ref_path}\")\n",
    "        \n",
    "        if ref_path.suffix.lower() not in [\".jpg\", \".jpeg\", \".png\", \".avif\"]:\n",
    "            continue\n",
    "            \n",
    "        img_ref = load_image(str(ref_path))\n",
    "        keypoints_ref, descriptors_ref = extract_sift_features(img_ref)\n",
    "\n",
    "        if len(keypoints_ref) == 0:\n",
    "            print(f\" Skipped {ref_path.name} due to missing keypoints\")\n",
    "            continue\n",
    "\n",
    "        record = {\n",
    "            \"filename\" : ref_path.name,\n",
    "            \"path\": str(ref_path),\n",
    "            \"num_keypoints\": len(keypoints_ref),\n",
    "            \"keypoints\": keypoints_ref,\n",
    "            \"descriptors\": descriptors_ref,\n",
    "            \"image_shape\": img_ref.shape,\n",
    "            \"image\": img_ref,\n",
    "        }\n",
    "        records.append(record)\n",
    "\n",
    "    df = pd.DataFrame(records)\n",
    "    return df"
   ]
  },
  {
   "cell_type": "code",
   "execution_count": 10,
   "id": "eef4ae30",
   "metadata": {},
   "outputs": [
    {
     "name": "stdout",
     "output_type": "stream",
     "text": [
      "Currently working on ..\\data\\images\\city_hall\n",
      "Currently working on ..\\data\\images\\city_hall\\city_hall1.jpg\n",
      "Currently working on ..\\data\\images\\city_hall\\city_hall2.jpg\n",
      "Currently working on ..\\data\\images\\city_hall\\city_hall3.jpeg\n",
      "Currently working on ..\\data\\images\\city_hall\\city_hall4.jpg\n",
      "Currently working on ..\\data\\images\\fram\n",
      "Currently working on ..\\data\\images\\fram\\fram1.png\n",
      "Currently working on ..\\data\\images\\fram\\fram2.jpeg\n",
      "Currently working on ..\\data\\images\\fram\\fram3.jpeg\n",
      "Currently working on ..\\data\\images\\fram\\fram4.jpg\n",
      "Currently working on ..\\data\\images\\fram\\fram5.avif\n",
      "Currently working on ..\\data\\images\\opera\n",
      "Currently working on ..\\data\\images\\opera\\opera1.jpg\n",
      "Currently working on ..\\data\\images\\opera\\opera2.jpg\n",
      "Currently working on ..\\data\\images\\opera\\opera3.jpeg\n",
      "Currently working on ..\\data\\images\\opera\\opera4.jpg\n",
      "Currently working on ..\\data\\images\\opera\\opera5.jpg\n",
      "Currently working on ..\\data\\images\\palace\n",
      "Currently working on ..\\data\\images\\palace\\palace1.jpg\n",
      "Currently working on ..\\data\\images\\palace\\palace2.jpeg\n",
      "Currently working on ..\\data\\images\\palace\\palace3.jpeg\n",
      "Currently working on ..\\data\\images\\palace\\palace4.jpg\n",
      "Currently working on ..\\data\\images\\palace\\palace5.jpg\n",
      "Currently working on ..\\data\\images\\vigeland\n",
      "Currently working on ..\\data\\images\\vigeland\\vigeland1.jpg\n",
      "Currently working on ..\\data\\images\\vigeland\\vigeland2.jpg\n",
      "Currently working on ..\\data\\images\\vigeland\\vigeland3.jpg\n",
      "Currently working on ..\\data\\images\\vigeland\\vigeland4.png\n"
     ]
    }
   ],
   "source": [
    "data = load_base()"
   ]
  },
  {
   "cell_type": "code",
   "execution_count": null,
   "id": "3b531b1a",
   "metadata": {},
   "outputs": [
    {
     "name": "stdout",
     "output_type": "stream",
     "text": [
      "Working on ..\\data\\test\\city_hall_test.jpg\n",
      "File from the dataset : ..\\data\\images\\city_hall\\city_hall1.jpg\n",
      "Matching Accuracy: 18.18% (4/22 correct matches)\n",
      "Accuracy of Image vs Image test : 0.18181818181818182\n",
      "File from the dataset : ..\\data\\images\\city_hall\\city_hall2.jpg\n",
      "Not enough matches to estimate homography: 2 found\n",
      "No homographt matrix to work with\n",
      "Accuracy of Image vs Image test : None\n",
      "File from the dataset : ..\\data\\images\\city_hall\\city_hall3.jpeg\n",
      "Matching Accuracy: 100.00% (5/5 correct matches)\n",
      "Accuracy of Image vs Image test : 1.0\n",
      "File from the dataset : ..\\data\\images\\city_hall\\city_hall4.jpg\n",
      "Matching Accuracy: 56.25% (9/16 correct matches)\n",
      "Accuracy of Image vs Image test : 0.5625\n",
      "File from the dataset : ..\\data\\images\\fram\\fram1.png\n",
      "Not enough matches to estimate homography: 1 found\n",
      "No homographt matrix to work with\n",
      "Accuracy of Image vs Image test : None\n",
      "File from the dataset : ..\\data\\images\\fram\\fram2.jpeg\n",
      "Not enough matches to estimate homography: 0 found\n",
      "No homographt matrix to work with\n",
      "Accuracy of Image vs Image test : None\n",
      "File from the dataset : ..\\data\\images\\fram\\fram3.jpeg\n",
      "Matching Accuracy: 80.00% (4/5 correct matches)\n",
      "Accuracy of Image vs Image test : 0.8\n",
      "File from the dataset : ..\\data\\images\\fram\\fram4.jpg\n",
      "Not enough matches to estimate homography: 0 found\n",
      "No homographt matrix to work with\n",
      "Accuracy of Image vs Image test : None\n",
      "File from the dataset : ..\\data\\images\\fram\\fram5.avif\n",
      "Not enough matches to estimate homography: 1 found\n",
      "No homographt matrix to work with\n",
      "Accuracy of Image vs Image test : None\n",
      "File from the dataset : ..\\data\\images\\opera\\opera1.jpg\n",
      "Matching Accuracy: 100.00% (4/4 correct matches)\n",
      "Accuracy of Image vs Image test : 1.0\n",
      "File from the dataset : ..\\data\\images\\opera\\opera2.jpg\n",
      "Not enough matches to estimate homography: 3 found\n",
      "No homographt matrix to work with\n",
      "Accuracy of Image vs Image test : None\n",
      "File from the dataset : ..\\data\\images\\opera\\opera3.jpeg\n",
      "Not enough matches to estimate homography: 0 found\n",
      "No homographt matrix to work with\n",
      "Accuracy of Image vs Image test : None\n",
      "File from the dataset : ..\\data\\images\\opera\\opera4.jpg\n",
      "Not enough matches to estimate homography: 0 found\n",
      "No homographt matrix to work with\n",
      "Accuracy of Image vs Image test : None\n",
      "File from the dataset : ..\\data\\images\\opera\\opera5.jpg\n"
     ]
    }
   ],
   "source": [
    "dataset_paths = sorted(Path('../data/test').rglob(\"*\"))\n",
    "\n",
    "\n",
    "for ref_path in dataset_paths:\n",
    "    if ref_path.suffix.lower() not in [\".jpg\", \".jpeg\", \".png\", \".avif\"]:\n",
    "        continue\n",
    "    \n",
    "    print(f\"Working on {ref_path}\")\n",
    "\n",
    "    img_ref = load_image(str(ref_path))\n",
    "    keypoints_ref, descriptors_ref = extract_sift_features(img_ref)\n",
    "\n",
    "    for _, files in data.iterrows():\n",
    "        print(f\"File from the dataset : {files[\"path\"]}\")\n",
    "        H1, matches = create_homography(files[\"keypoints\"], keypoints_ref, files[\"descriptors\"], descriptors_ref)\n",
    "        print(f\"Accuracy of Image vs Image test : {compute_matching_accuracy(files['keypoints'], keypoints_ref, matches, H1)}\")\n",
    "\n",
    "    "
   ]
  },
  {
   "cell_type": "code",
   "execution_count": 12,
   "id": "5f728893",
   "metadata": {},
   "outputs": [],
   "source": [
    "#matches = match_and_plot(img1, im_test, keypoints1, descriptors1, keypoints_test, descriptors_test, \"Image 1 vs Image test\")\n",
    "#H1, matches = create_homography(keypoints1, keypoints_test, descriptors1, descriptors_test)\n",
    "#print(f\"Accurcay of Image 1 vs Image test : {compute_matching_accuracy(keypoints1, keypoints_test, matches, H1)}\")"
   ]
  }
 ],
 "metadata": {
  "kernelspec": {
   "display_name": "Python 3",
   "language": "python",
   "name": "python3"
  },
  "language_info": {
   "codemirror_mode": {
    "name": "ipython",
    "version": 3
   },
   "file_extension": ".py",
   "mimetype": "text/x-python",
   "name": "python",
   "nbconvert_exporter": "python",
   "pygments_lexer": "ipython3",
   "version": "3.13.5"
  }
 },
 "nbformat": 4,
 "nbformat_minor": 5
}
