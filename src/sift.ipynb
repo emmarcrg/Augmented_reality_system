{
 "cells": [
  {
   "cell_type": "markdown",
   "id": "2d2c46fe",
   "metadata": {},
   "source": [
    "Based on the code shown in https://scikit-image.org/docs/stable/auto_examples/features_detection/plot_sift.html"
   ]
  },
  {
   "cell_type": "code",
   "execution_count": null,
   "id": "3d271516",
   "metadata": {},
   "outputs": [],
   "source": [
    "import matplotlib.pyplot as plt\n",
    "from skimage.color import rgb2gray\n",
    "from skimage.feature import SIFT, match_descriptors, plot_matched_features\n",
    "from skimage import transform\n",
    "from PIL import Image\n",
    "import numpy as np\n",
    "import os\n",
    "import cv2\n",
    "from skimage.measure import ransac\n",
    "from skimage.transform import ProjectiveTransform"
   ]
  },
  {
   "cell_type": "code",
   "execution_count": null,
   "id": "e0368377",
   "metadata": {},
   "outputs": [],
   "source": [
    "# Load the datafiles and make them grayscale\n",
    "def load_image(path):\n",
    "    return rgb2gray(np.array(Image.open(path)))"
   ]
  },
  {
   "cell_type": "code",
   "execution_count": null,
   "id": "68e758bf",
   "metadata": {},
   "outputs": [],
   "source": [
    "# Used to acces the name of the folder we are working on : not necessary\n",
    "print(\"Répertoire courant :\", os.getcwd())\n"
   ]
  },
  {
   "cell_type": "code",
   "execution_count": null,
   "id": "857fa75c",
   "metadata": {},
   "outputs": [],
   "source": [
    "# Extract SIFT keypoints and descriptors\n",
    "def extract_sift_features(image):\n",
    "    sift = SIFT()\n",
    "    sift.detect_and_extract(image)\n",
    "    return sift.keypoints, sift.descriptors"
   ]
  },
  {
   "cell_type": "markdown",
   "id": "728a84fd",
   "metadata": {},
   "source": [
    "Problem of dimensions for the first two pictures."
   ]
  },
  {
   "cell_type": "code",
   "execution_count": null,
   "id": "db9c9955",
   "metadata": {},
   "outputs": [],
   "source": [
    "def resize_to_match(img1, img2):\n",
    "    h1, w1 = img1.shape[:2]\n",
    "    h2, w2 = img2.shape[:2]\n",
    "    return cv2.resize(img2, (w1, h1)) if (h1 != h2 or w1 != w2) else img2"
   ]
  },
  {
   "cell_type": "code",
   "execution_count": null,
   "id": "d45e0e85",
   "metadata": {},
   "outputs": [],
   "source": [
    "# Visualize the matches\n",
    "def match_and_plot(img1, img2, keypoints1, descriptors1, keypoints2, descriptors2, title):\n",
    "    matches = match_descriptors(descriptors1, descriptors2, max_ratio=0.6, cross_check=True)\n",
    "\n",
    "    #img2 = resize_to_match(img1, img2)\n",
    "    \n",
    "    fig, ax = plt.subplots(1, 1, figsize=(10, 8))\n",
    "    plt.gray()\n",
    "    plot_matched_features(image0=img1, image1=img2, \n",
    "                          keypoints0=keypoints1, keypoints1=keypoints2,\n",
    "                          matches=matches, ax=ax, \n",
    "                          keypoints_color='cyan',\n",
    "                          only_matches=True)\n",
    "    ax.axis('off')\n",
    "    ax.set_title(title)\n",
    "    plt.show()\n",
    "    return matches"
   ]
  },
  {
   "cell_type": "code",
   "execution_count": null,
   "id": "f104c122",
   "metadata": {},
   "outputs": [],
   "source": [
    "# Compute matching accuracy using optional homography\n",
    "def compute_matching_accuracy(keypoints1, keypoints2, matches, homography=None, threshold=5):\n",
    "    \"\"\"\n",
    "    Compute the matching accuracy based on a homography.\n",
    "    If no homography is provided, only the number of matches is printed.\n",
    "    \"\"\"\n",
    "    if homography is None:\n",
    "        print(f\"{len(matches)} matches found (no validation)\")\n",
    "        return None\n",
    "\n",
    "    correct = 0\n",
    "    for i, j in matches:\n",
    "        pt1 = np.array([*keypoints1[i], 1.0])  # homogeneous coordinates\n",
    "        projected = homography @ pt1\n",
    "        projected /= projected[2]  # normalize\n",
    "\n",
    "        pt2 = keypoints2[j]\n",
    "        error = np.linalg.norm(projected[:2] - pt2)\n",
    "\n",
    "        if error < threshold:\n",
    "            correct += 1\n",
    "\n",
    "    accuracy = correct / len(matches) if matches.size > 0 else 0\n",
    "    print(f\"Matching Accuracy: {accuracy:.2%} ({correct}/{len(matches)} correct matches)\")\n",
    "    return accuracy"
   ]
  },
  {
   "cell_type": "code",
   "execution_count": null,
   "id": "92e1147f",
   "metadata": {},
   "outputs": [],
   "source": [
    "def create_homography(keypoints1, keypoints2, descriptors1, descriptors2):\n",
    "    \"\"\"\n",
    "    Create a homography matrix from source points to destination points.\n",
    "    \"\"\"\n",
    "    matches = match_descriptors(descriptors1, descriptors2, max_ratio=0.6, cross_check=True)\n",
    "    if matches.shape[0] < 4:\n",
    "        print(f\"Not enough matches to estimate homography: {matches.shape[0]} found\")\n",
    "        return None\n",
    "    \n",
    "    src = keypoints1[matches[:, 0]]  # points from image 1\n",
    "    dst = keypoints2[matches[:, 1]]  # corresponding points in image 2\n",
    "\n",
    "    model_robust, inliers = ransac(\n",
    "        (src, dst),\n",
    "        ProjectiveTransform,\n",
    "        min_samples=4,\n",
    "        residual_threshold=2,\n",
    "        max_trials=1000\n",
    "    )\n",
    "    H = model_robust.params \n",
    "    return H, matches\n"
   ]
  },
  {
   "cell_type": "code",
   "execution_count": null,
   "id": "71620157",
   "metadata": {},
   "outputs": [],
   "source": [
    "img1 = load_image('../data/images/city_hall/city_hall1.jpg')\n",
    "img2 = load_image('../data/images/city_hall/city_hall2.jpg')\n",
    "im_test = load_image('../data/test/city_hall_test.jpg')\n",
    "\n",
    "keypoints1, descriptors1 = extract_sift_features(img1)\n",
    "keypoints2, descriptors2 = extract_sift_features(img2)\n",
    "keypoints_test, descriptors_test = extract_sift_features(im_test)"
   ]
  },
  {
   "cell_type": "code",
   "execution_count": null,
   "id": "5f728893",
   "metadata": {},
   "outputs": [],
   "source": [
    "#matches = match_and_plot(img1, im_test, keypoints1, descriptors1, keypoints_test, descriptors_test, \"Image 1 vs Image test\")\n",
    "H1, matches = create_homography(keypoints1, keypoints_test, descriptors1, descriptors_test)\n",
    "print(f\"Accurcay of Image 1 vs Image test : {compute_matching_accuracy(keypoints1, keypoints_test, matches, H1)}\")"
   ]
  },
  {
   "cell_type": "code",
   "execution_count": null,
   "id": "d24656a8",
   "metadata": {},
   "outputs": [],
   "source": [
    "#matches = match_and_plot(img2, im_test, keypoints2, descriptors2, keypoints_test, descriptors_test, \"Image 2 vs Image test\")\n",
    "H2, matches = create_homography(keypoints2, keypoints_test, descriptors2, descriptors_test)\n",
    "print(f\"Accurcay of Image 2 vs Image test : {compute_matching_accuracy(keypoints1, keypoints_test, matches, H2)}\")"
   ]
  },
  {
   "cell_type": "code",
   "execution_count": null,
   "id": "c51e2ef3",
   "metadata": {},
   "outputs": [],
   "source": [
    "img3 = load_image('../data/images/city_hall/city_hall3.jpeg')\n",
    "img4 = load_image('../data/images/city_hall/city_hall4.jpg')\n",
    "\n",
    "keypoints3, descriptors3 = extract_sift_features(img3)\n",
    "keypoints4, descriptors4 = extract_sift_features(img4)"
   ]
  },
  {
   "cell_type": "code",
   "execution_count": null,
   "id": "5363de6b",
   "metadata": {},
   "outputs": [],
   "source": [
    "H3, matches = create_homography(keypoints3, keypoints_test, descriptors3, descriptors_test)\n",
    "print(f\"Accurcay of Image 3 vs Image test : {compute_matching_accuracy(keypoints3, keypoints_test, matches, H3)}\")"
   ]
  },
  {
   "cell_type": "code",
   "execution_count": null,
   "id": "28ba8a46",
   "metadata": {},
   "outputs": [],
   "source": [
    "H4, matches = create_homography(keypoints4, keypoints_test, descriptors4, descriptors_test)\n",
    "print(f\"Accurcay of Image 4 vs Image test : {compute_matching_accuracy(keypoints4, keypoints_test, matches, H4)}\")"
   ]
  },
  {
   "cell_type": "markdown",
   "id": "55c202c8",
   "metadata": {},
   "source": [
    "Test with the others images."
   ]
  },
  {
   "cell_type": "code",
   "execution_count": null,
   "id": "e4dc2092",
   "metadata": {},
   "outputs": [
    {
     "ename": "NameError",
     "evalue": "name 'load_image' is not defined",
     "output_type": "error",
     "traceback": [
      "\u001b[31m---------------------------------------------------------------------------\u001b[39m",
      "\u001b[31mNameError\u001b[39m                                 Traceback (most recent call last)",
      "\u001b[36mCell\u001b[39m\u001b[36m \u001b[39m\u001b[32mIn[1]\u001b[39m\u001b[32m, line 1\u001b[39m\n\u001b[32m----> \u001b[39m\u001b[32m1\u001b[39m img1 = \u001b[43mload_image\u001b[49m(\u001b[33m'\u001b[39m\u001b[33m../data/images/fram/fram1.png\u001b[39m\u001b[33m'\u001b[39m)\n\u001b[32m      2\u001b[39m img2 = load_image(\u001b[33m'\u001b[39m\u001b[33m../data/images/fram/fram2.jpeg\u001b[39m\u001b[33m'\u001b[39m)\n\u001b[32m      4\u001b[39m keypoints1, descriptors1 = extract_sift_features(img1)\n",
      "\u001b[31mNameError\u001b[39m: name 'load_image' is not defined"
     ]
    }
   ],
   "source": [
    "\n",
    "img1 = load_image('../data/images/fram/fram1.png')\n",
    "img2 = load_image('../data/images/fram/fram2.jpeg')\n",
    "\n",
    "keypoints1, descriptors1 = extract_sift_features(img1)\n",
    "keypoints2, descriptors2 = extract_sift_features(img2)\n",
    "\n",
    "img3 = load_image('../data/images/fram/fram3.jpeg')\n",
    "img4 = load_image('../data/images/fram/fram4.jpg')\n",
    "\n",
    "img_test = load_image('../data/test/fram_test.jpg')\n",
    "\n",
    "keypoints3, descriptors3 = extract_sift_features(img3)\n",
    "keypoints4, descriptors4 = extract_sift_features(img4)\n",
    "keypoints_test, descriptors_test = extract_sift_features(img_test)\n",
    "\n",
    "H1, matches = create_homography(keypoints1, keypoints_test, descriptors1, descriptors_test)\n",
    "print(f\"Accurcay of Image 1 vs Image test : {compute_matching_accuracy(keypoints1, keypoints_test, matches, H1)}\")\n",
    "\n",
    "H2, matches = create_homography(keypoints2, keypoints_test, descriptors2, descriptors_test)\n",
    "print(f\"Accurcay of Image 2 vs Image test : {compute_matching_accuracy(keypoints1, keypoints_test, matches, H2)}\")\n",
    "\n",
    "H3, matches = create_homography(keypoints3, keypoints_test, descriptors3, descriptors_test)\n",
    "print(f\"Accurcay of Image 3 vs Image test : {compute_matching_accuracy(keypoints3, keypoints_test, matches, H3)}\")\n",
    "\n",
    "H4, matches = create_homography(keypoints4, keypoints_test, descriptors4, descriptors_test)\n",
    "print(f\"Accurcay of Image 4 vs Image test : {compute_matching_accuracy(keypoints4, keypoints_test, matches, H4)}\")"
   ]
  },
  {
   "cell_type": "code",
   "execution_count": null,
   "id": "cc9b5228",
   "metadata": {},
   "outputs": [],
   "source": [
    "img1 = load_image('../data/images/opera/opera1.jpg')\n",
    "img2 = load_image('../data/images/opera/opera2.jpg')\n",
    "\n",
    "keypoints1, descriptors1 = extract_sift_features(img1)\n",
    "keypoints2, descriptors2 = extract_sift_features(img2)\n",
    "\n",
    "img3 = load_image('../data/images/opera/opera3.jpeg')\n",
    "img4 = load_image('../data/images/opera/opera4.jpg')\n",
    "\n",
    "keypoints3, descriptors3 = extract_sift_features(img3)\n",
    "keypoints4, descriptors4 = extract_sift_features(img4)\n",
    "\n",
    "img_test = load_image('../data/test/opera_test.avif')\n",
    "keypoints_test, descriptors_test = extract_sift_features(img_test)\n",
    "\n",
    "H1, matches = create_homography(keypoints1, keypoints_test, descriptors1, descriptors_test)\n",
    "print(f\"Accurcay of Image 1 vs Image test : {compute_matching_accuracy(keypoints1, keypoints_test, matches, H1)}\")\n",
    "\n",
    "H2, matches = create_homography(keypoints2, keypoints_test, descriptors2, descriptors_test)\n",
    "print(f\"Accurcay of Image 2 vs Image test : {compute_matching_accuracy(keypoints1, keypoints_test, matches, H2)}\")\n",
    "\n",
    "H3, matches = create_homography(keypoints3, keypoints_test, descriptors3, descriptors_test)\n",
    "print(f\"Accurcay of Image 3 vs Image test : {compute_matching_accuracy(keypoints3, keypoints_test, matches, H3)}\")\n",
    "\n",
    "H4, matches = create_homography(keypoints4, keypoints_test, descriptors4, descriptors_test)\n",
    "print(f\"Accurcay of Image 4 vs Image test : {compute_matching_accuracy(keypoints4, keypoints_test, matches, H4)}\")"
   ]
  },
  {
   "cell_type": "code",
   "execution_count": null,
   "id": "54b4ceb1",
   "metadata": {},
   "outputs": [],
   "source": [
    "img1 = load_image('../data/images/palace/palace1.jpg')\n",
    "img2 = load_image('../data/images/palace/palace2.jpeg')\n",
    "\n",
    "keypoints1, descriptors1 = extract_sift_features(img1)\n",
    "keypoints2, descriptors2 = extract_sift_features(img2)\n",
    "\n",
    "img3 = load_image('../data/images/palace/palace3.jpeg')\n",
    "img4 = load_image('../data/images/palace/palace4.jpg')\n",
    "\n",
    "keypoints3, descriptors3 = extract_sift_features(img3)\n",
    "keypoints4, descriptors4 = extract_sift_features(img4)\n",
    "\n",
    "img_test = load_image('../data/test/palace_test.jpg')\n",
    "keypoints_test, descriptors_test = extract_sift_features(img_test)\n",
    "\n",
    "H1, matches = create_homography(keypoints1, keypoints_test, descriptors1, descriptors_test)\n",
    "print(f\"Accurcay of Image 1 vs Image test : {compute_matching_accuracy(keypoints1, keypoints_test, matches, H1)}\")\n",
    "\n",
    "H2, matches = create_homography(keypoints2, keypoints_test, descriptors2, descriptors_test)\n",
    "print(f\"Accurcay of Image 2 vs Image test : {compute_matching_accuracy(keypoints1, keypoints_test, matches, H2)}\")\n",
    "\n",
    "H3, matches = create_homography(keypoints3, keypoints_test, descriptors3, descriptors_test)\n",
    "print(f\"Accurcay of Image 3 vs Image test : {compute_matching_accuracy(keypoints3, keypoints_test, matches, H3)}\")\n",
    "\n",
    "H4, matches = create_homography(keypoints4, keypoints_test, descriptors4, descriptors_test)\n",
    "print(f\"Accurcay of Image 4 vs Image test : {compute_matching_accuracy(keypoints4, keypoints_test, matches, H4)}\")"
   ]
  },
  {
   "cell_type": "code",
   "execution_count": null,
   "id": "97e1fe56",
   "metadata": {},
   "outputs": [],
   "source": [
    "img1 = load_image('../data/images/vigeland/vigeland1.jpg')\n",
    "img2 = load_image('../data/images/vigeland/vigeland2.jpg')\n",
    "\n",
    "keypoints1, descriptors1 = extract_sift_features(img1)\n",
    "keypoints2, descriptors2 = extract_sift_features(img2)\n",
    "\n",
    "img3 = load_image('../data/images/vigeland/vigeland3.jpg')\n",
    "img4 = load_image('../data/images/vigeland/vigeland4.png')\n",
    "\n",
    "keypoints3, descriptors3 = extract_sift_features(img3)\n",
    "keypoints4, descriptors4 = extract_sift_features(img4)\n",
    "\n",
    "img_test = load_image('../data/test/vigeland_test.avif')\n",
    "keypoints_test, descriptors_test = extract_sift_features(img_test)\n",
    "\n",
    "H1, matches = create_homography(keypoints1, keypoints_test, descriptors1, descriptors_test)\n",
    "print(f\"Accurcay of Image 1 vs Image test : {compute_matching_accuracy(keypoints1, keypoints_test, matches, H1)}\")\n",
    "\n",
    "H2, matches = create_homography(keypoints2, keypoints_test, descriptors2, descriptors_test)\n",
    "print(f\"Accurcay of Image 2 vs Image test : {compute_matching_accuracy(keypoints1, keypoints_test, matches, H2)}\")\n",
    "\n",
    "H3, matches = create_homography(keypoints3, keypoints_test, descriptors3, descriptors_test)\n",
    "print(f\"Accurcay of Image 3 vs Image test : {compute_matching_accuracy(keypoints3, keypoints_test, matches, H3)}\")\n",
    "\n",
    "H4, matches = create_homography(keypoints4, keypoints_test, descriptors4, descriptors_test)\n",
    "print(f\"Accurcay of Image 4 vs Image test : {compute_matching_accuracy(keypoints4, keypoints_test, matches, H4)}\")"
   ]
  }
 ],
 "metadata": {
  "kernelspec": {
   "display_name": "Python 3",
   "language": "python",
   "name": "python3"
  },
  "language_info": {
   "codemirror_mode": {
    "name": "ipython",
    "version": 3
   },
   "file_extension": ".py",
   "mimetype": "text/x-python",
   "name": "python",
   "nbconvert_exporter": "python",
   "pygments_lexer": "ipython3",
   "version": "3.13.5"
  }
 },
 "nbformat": 4,
 "nbformat_minor": 5
}
