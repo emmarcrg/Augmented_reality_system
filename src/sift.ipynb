{
 "cells": [
  {
   "cell_type": "markdown",
   "id": "2d2c46fe",
   "metadata": {},
   "source": [
    "Based on the code shown in https://scikit-image.org/docs/stable/auto_examples/features_detection/plot_sift.html"
   ]
  },
  {
   "cell_type": "code",
   "execution_count": null,
   "id": "3d271516",
   "metadata": {},
   "outputs": [],
   "source": [
    "import matplotlib.pyplot as plt\n",
    "from skimage.color import rgb2gray\n",
    "from skimage.feature import SIFT, match_descriptors, plot_matched_features\n",
    "from skimage import transform\n",
    "from PIL import Image\n",
    "import numpy as np\n",
    "import os\n",
    "import cv2\n",
    "from skimage.measure import ransac\n",
    "from skimage.transform import ProjectiveTransform\n",
    "from pathlib import Path"
   ]
  },
  {
   "cell_type": "code",
   "execution_count": null,
   "id": "e0368377",
   "metadata": {},
   "outputs": [],
   "source": [
    "# Load the datafiles and make them grayscale\n",
    "def load_image(path):\n",
    "    return rgb2gray(np.array(Image.open(path)))"
   ]
  },
  {
   "cell_type": "code",
   "execution_count": null,
   "id": "68e758bf",
   "metadata": {},
   "outputs": [],
   "source": [
    "# Used to acces the name of the folder we are working on : not necessary\n",
    "print(\"Répertoire courant :\", os.getcwd())\n"
   ]
  },
  {
   "cell_type": "code",
   "execution_count": null,
   "id": "857fa75c",
   "metadata": {},
   "outputs": [],
   "source": [
    "# Extract SIFT keypoints and descriptors\n",
    "def extract_sift_features(image):\n",
    "    sift = SIFT()\n",
    "    sift.detect_and_extract(image)\n",
    "    return sift.keypoints, sift.descriptors"
   ]
  },
  {
   "cell_type": "markdown",
   "id": "728a84fd",
   "metadata": {},
   "source": [
    "Problem of dimensions for the first two pictures."
   ]
  },
  {
   "cell_type": "code",
   "execution_count": null,
   "id": "db9c9955",
   "metadata": {},
   "outputs": [],
   "source": [
    "def resize_to_match(img1, img2):\n",
    "    h1, w1 = img1.shape[:2]\n",
    "    h2, w2 = img2.shape[:2]\n",
    "    return cv2.resize(img2, (w1, h1)) if (h1 != h2 or w1 != w2) else img2"
   ]
  },
  {
   "cell_type": "code",
   "execution_count": null,
   "id": "d45e0e85",
   "metadata": {},
   "outputs": [],
   "source": [
    "# Visualize the matches\n",
    "def match_and_plot(img1, img2, keypoints1, descriptors1, keypoints2, descriptors2, title):\n",
    "    matches = match_descriptors(descriptors1, descriptors2, max_ratio=0.6, cross_check=True)\n",
    "\n",
    "    #img2 = resize_to_match(img1, img2)\n",
    "    \n",
    "    fig, ax = plt.subplots(1, 1, figsize=(10, 8))\n",
    "    plt.gray()\n",
    "    plot_matched_features(image0=img1, image1=img2, \n",
    "                          keypoints0=keypoints1, keypoints1=keypoints2,\n",
    "                          matches=matches, ax=ax, \n",
    "                          keypoints_color='cyan',\n",
    "                          only_matches=True)\n",
    "    ax.axis('off')\n",
    "    ax.set_title(title)\n",
    "    plt.show()\n",
    "    return matches"
   ]
  },
  {
   "cell_type": "code",
   "execution_count": null,
   "id": "f104c122",
   "metadata": {},
   "outputs": [],
   "source": [
    "# Compute matching accuracy using optional homography\n",
    "def compute_matching_accuracy(keypoints1, keypoints2, matches, homography=None, threshold=5):\n",
    "    \"\"\"\n",
    "    Compute the matching accuracy based on a homography.\n",
    "    If no homography is provided, only the number of matches is printed.\n",
    "    \"\"\"\n",
    "    if homography is None:\n",
    "        print(f\"{len(matches)} matches found (no validation)\")\n",
    "        return None\n",
    "\n",
    "    if matches is None or len(matches) == 0:\n",
    "        print(\"No matches to evaluate.\")\n",
    "        return 0\n",
    "\n",
    "    correct = 0\n",
    "    for i, j in matches:\n",
    "        pt1 = np.array([*keypoints1[i], 1.0])  # homogeneous coordinates\n",
    "        projected = homography @ pt1\n",
    "        projected /= projected[2]  # normalize\n",
    "\n",
    "        pt2 = keypoints2[j]\n",
    "        error = np.linalg.norm(projected[:2] - pt2)\n",
    "\n",
    "        if error < threshold:\n",
    "            correct += 1\n",
    "\n",
    "    accuracy = correct / len(matches) if matches.size > 0 else 0\n",
    "    print(f\"Matching Accuracy: {accuracy:.2%} ({correct}/{len(matches)} correct matches)\")\n",
    "    return accuracy"
   ]
  },
  {
   "cell_type": "code",
   "execution_count": null,
   "id": "92e1147f",
   "metadata": {},
   "outputs": [],
   "source": [
    "def create_homography(keypoints1, keypoints2, descriptors1, descriptors2):\n",
    "    \"\"\"\n",
    "    Create a homography matrix from source points to destination points.\n",
    "    \"\"\"\n",
    "    matches = match_descriptors(descriptors1, descriptors2, max_ratio=0.6, cross_check=True)\n",
    "    if matches.shape[0] < 4:\n",
    "        print(f\"Not enough matches to estimate homography: {matches.shape[0]} found\")\n",
    "        return None\n",
    "    \n",
    "    if matches is None:\n",
    "        print(\"No matches found.\")\n",
    "        return None\n",
    "    \n",
    "    src = keypoints1[matches[:, 0]]  # points from image 1\n",
    "    dst = keypoints2[matches[:, 1]]  # corresponding points in image 2\n",
    "\n",
    "    model_robust, inliers = ransac(\n",
    "        (src, dst),\n",
    "        ProjectiveTransform,\n",
    "        min_samples=4,\n",
    "        residual_threshold=2,\n",
    "        max_trials=1000\n",
    "    )\n",
    "    H = model_robust.params \n",
    "    return H, matches\n"
   ]
  },
  {
   "cell_type": "code",
   "execution_count": null,
   "id": "022881f5",
   "metadata": {},
   "outputs": [],
   "source": [
    "\n",
    "\n",
    "def batch_compare_tests_to_dataset(test_dir, dataset_dir):\n",
    "    test_paths = sorted(Path(test_dir).glob(\"*\"))\n",
    "    dataset_paths = sorted(Path(dataset_dir).rglob(\"*\"))\n",
    "    \n",
    "    for test_path in test_paths:\n",
    "        print(f\"\\n🧪 Test image: {test_path.name}\")\n",
    "        img_test = load_image(str(test_path))\n",
    "        keypoints_test, descriptors_test = extract_sift_features(img_test)\n",
    "\n",
    "        for ref_path in dataset_paths:\n",
    "            if ref_path.suffix.lower() not in [\".jpg\", \".jpeg\", \".png\", \".avif\"]:\n",
    "                continue\n",
    "\n",
    "            img_ref = load_image(str(ref_path))\n",
    "            keypoints_ref, descriptors_ref = extract_sift_features(img_ref)\n",
    "\n",
    "            if descriptors_ref is None or descriptors_test is None:\n",
    "                print(f\"⚠️ Skipped {ref_path.name} due to missing descriptors\")\n",
    "                continue\n",
    "\n",
    "            H, matches = create_homography(keypoints_ref, keypoints_test, descriptors_ref, descriptors_test)\n",
    "            accuracy = compute_matching_accuracy(keypoints_ref, keypoints_test, matches, H)\n",
    "\n",
    "            print(f\"🔗 Accuracy of {ref_path.name} vs {test_path.name}: {accuracy:.2f}\")\n"
   ]
  },
  {
   "cell_type": "code",
   "execution_count": null,
   "id": "131c99b8",
   "metadata": {},
   "outputs": [],
   "source": [
    "batch_compare_tests_to_dataset(\"data/tests\", \"data/images\")"
   ]
  }
 ],
 "metadata": {
  "kernelspec": {
   "display_name": "Python 3",
   "language": "python",
   "name": "python3"
  },
  "language_info": {
   "codemirror_mode": {
    "name": "ipython",
    "version": 3
   },
   "file_extension": ".py",
   "mimetype": "text/x-python",
   "name": "python",
   "nbconvert_exporter": "python",
   "pygments_lexer": "ipython3",
   "version": "3.13.5"
  }
 },
 "nbformat": 4,
 "nbformat_minor": 5
}
